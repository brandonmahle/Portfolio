{
 "cells": [
  {
   "cell_type": "markdown",
   "id": "08900a49",
   "metadata": {},
   "source": [
    "### Financial Statement Analysis"
   ]
  },
  {
   "cell_type": "code",
   "execution_count": 49,
   "id": "c37503a0",
   "metadata": {},
   "outputs": [],
   "source": [
    "# Results provided in lists\n",
    "# Precision is to $0.01 but presented in units of 1000\n",
    "\n",
    "import numpy as np"
   ]
  },
  {
   "cell_type": "code",
   "execution_count": 8,
   "id": "5bb1807b",
   "metadata": {},
   "outputs": [],
   "source": [
    "#Data \n",
    "revenue = [14574.49, 7606.46, 8611.41, 9175.41, 8058.65, 8105.44, 11496.28, 9766.09, 10305.32, 14379.96, 10713.97, 15433.50]\n",
    "expenses = [12051.82, 5695.07, 12319.20, 12089.72, 8658.57, 840.20, 3285.73, 5821.12, 6976.93, 16618.61, 10054.37, 3803.96]"
   ]
  },
  {
   "cell_type": "code",
   "execution_count": 13,
   "id": "bfd4d401",
   "metadata": {},
   "outputs": [
    {
     "data": {
      "text/plain": [
       "11"
      ]
     },
     "execution_count": 13,
     "metadata": {},
     "output_type": "execute_result"
    }
   ],
   "source": []
  },
  {
   "cell_type": "code",
   "execution_count": 28,
   "id": "60601410",
   "metadata": {
    "scrolled": true
   },
   "outputs": [
    {
     "data": {
      "text/plain": [
       "[2522.67,\n",
       " 1911.3900000000003,\n",
       " -3707.790000000001,\n",
       " -2914.3099999999995,\n",
       " -599.9200000000001,\n",
       " 7265.24,\n",
       " 8210.550000000001,\n",
       " 3944.9700000000003,\n",
       " 3328.3899999999994,\n",
       " -2238.6500000000015,\n",
       " 659.5999999999985,\n",
       " 11629.54]"
      ]
     },
     "execution_count": 28,
     "metadata": {},
     "output_type": "execute_result"
    }
   ],
   "source": [
    "# Profit for each month\n",
    "# Precision is to $0.01 but presented in units of 1000\n",
    "i = 0\n",
    "profit = list([])\n",
    "for i in range(0, len(revenue)):\n",
    "    profit.append(revenue[i]-expenses[i])\n",
    "\n",
    "profit"
   ]
  },
  {
   "cell_type": "code",
   "execution_count": 29,
   "id": "026f8077",
   "metadata": {},
   "outputs": [
    {
     "data": {
      "text/plain": [
       "[756.8,\n",
       " 573.42,\n",
       " -1112.34,\n",
       " -874.29,\n",
       " -179.98,\n",
       " 2179.57,\n",
       " 2463.17,\n",
       " 1183.49,\n",
       " 998.52,\n",
       " -671.6,\n",
       " 197.88,\n",
       " 3488.86]"
      ]
     },
     "execution_count": 29,
     "metadata": {},
     "output_type": "execute_result"
    }
   ],
   "source": [
    "# Profit after tax for each month. Tax is 30%\n",
    "# Precision is to $0.01 but presented in units of 1000\n",
    "# Tax can be negative i.e. deferred tax asset\n",
    "\n",
    "tax = [round(i*0.3,2) for i in profit]\n",
    "\n",
    "tax"
   ]
  },
  {
   "cell_type": "code",
   "execution_count": 31,
   "id": "bbe6ebbc",
   "metadata": {},
   "outputs": [
    {
     "data": {
      "text/plain": [
       "[1765.8700000000001,\n",
       " 1337.9700000000003,\n",
       " -2595.4500000000007,\n",
       " -2040.0199999999995,\n",
       " -419.94000000000005,\n",
       " 5085.67,\n",
       " 5747.380000000001,\n",
       " 2761.4800000000005,\n",
       " 2329.8699999999994,\n",
       " -1567.0500000000015,\n",
       " 461.71999999999855,\n",
       " 8140.68]"
      ]
     },
     "execution_count": 31,
     "metadata": {},
     "output_type": "execute_result"
    }
   ],
   "source": [
    "profit_after_tax = list([])\n",
    "\n",
    "for i in range(0, len(profit)):\n",
    "    profit_after_tax.append(profit[i]-tax[i])\n",
    "\n",
    "profit_after_tax"
   ]
  },
  {
   "cell_type": "code",
   "execution_count": 45,
   "id": "d2d0ab7e",
   "metadata": {},
   "outputs": [
    {
     "data": {
      "text/plain": [
       "[12.12,\n",
       " 17.59,\n",
       " -30.14,\n",
       " -22.23,\n",
       " -5.21,\n",
       " 62.74,\n",
       " 49.99,\n",
       " 28.28,\n",
       " 22.61,\n",
       " -10.9,\n",
       " 4.31,\n",
       " 52.75]"
      ]
     },
     "execution_count": 45,
     "metadata": {},
     "output_type": "execute_result"
    }
   ],
   "source": [
    "# Profit margin for each month\n",
    "# Profit after tax divided by revenue\n",
    "# Profit margin is in % with no decimals\n",
    "\n",
    "profit_margin = list([])\n",
    "\n",
    "for i in range(0, len(profit)):\n",
    "    profit_margin.append(round(100*(profit_after_tax[i]/revenue[i]),2))\n",
    "\n",
    "    \n",
    "# COULD ALSO DO THIS profit_margin = [round((i*100),2) for i in profit_margin]\n",
    "profit_margin\n",
    "\n"
   ]
  },
  {
   "cell_type": "code",
   "execution_count": 54,
   "id": "bd600186",
   "metadata": {},
   "outputs": [
    {
     "data": {
      "text/plain": [
       "1750.6816666666664"
      ]
     },
     "execution_count": 54,
     "metadata": {},
     "output_type": "execute_result"
    }
   ],
   "source": [
    "#mean profit after tax\n",
    "mean_pat = np.mean(profit_after_tax)\n",
    "mean_pat"
   ]
  },
  {
   "cell_type": "code",
   "execution_count": 63,
   "id": "f184e018",
   "metadata": {},
   "outputs": [
    {
     "data": {
      "text/plain": [
       "['Jan', 'Jun', 'Jul', 'Aug', 'Sep', 'Dec']"
      ]
     },
     "execution_count": 63,
     "metadata": {},
     "output_type": "execute_result"
    }
   ],
   "source": [
    "# Good months i.e.\n",
    "# Month when profit is greater than the mean for the year\n",
    "\n",
    "good_months_bool = list([])\n",
    "for i in range(0, len(profit)):\n",
    "    good_months_bool.append(profit_after_tax[i] > mean_pat)\n",
    "    \n",
    "\n",
    "months = ['Jan', 'Feb', 'Mar', 'Apr', 'May', 'Jun', 'Jul', 'Aug', 'Sep', 'Oct', 'Nov', 'Dec']\n",
    "\n",
    "good_months_listed = ([])\n",
    "\n",
    "for i in range(0, len(profit)):\n",
    "    if good_months_bool[i] == True:\n",
    "        good_months_listed.append(months[i])\n",
    "        \n",
    "good_months_listed"
   ]
  },
  {
   "cell_type": "code",
   "execution_count": 64,
   "id": "5db77779",
   "metadata": {},
   "outputs": [
    {
     "data": {
      "text/plain": [
       "['Feb', 'Mar', 'Apr', 'May', 'Oct', 'Nov']"
      ]
     },
     "execution_count": 64,
     "metadata": {},
     "output_type": "execute_result"
    }
   ],
   "source": [
    "# Bad months i.e.\n",
    "# Month when profit is less than the mean for the year\n",
    "\n",
    "bad_months_bool = list([])\n",
    "for i in range(0, len(profit)):\n",
    "    bad_months_bool.append(profit_after_tax[i] < mean_pat)\n",
    "    \n",
    "\n",
    "months = ['Jan', 'Feb', 'Mar', 'Apr', 'May', 'Jun', 'Jul', 'Aug', 'Sep', 'Oct', 'Nov', 'Dec']\n",
    "\n",
    "bad_months_listed = ([])\n",
    "\n",
    "for i in range(0, len(profit)):\n",
    "    if bad_months_bool[i] == True:\n",
    "        bad_months_listed.append(months[i])\n",
    "        \n",
    "bad_months_listed"
   ]
  },
  {
   "cell_type": "code",
   "execution_count": 73,
   "id": "57e5f9a4",
   "metadata": {},
   "outputs": [
    {
     "data": {
      "text/plain": [
       "['Dec']"
      ]
     },
     "execution_count": 73,
     "metadata": {},
     "output_type": "execute_result"
    }
   ],
   "source": [
    "# The best month i.e. yearly max\n",
    "\n",
    "best_month_bool = list([])\n",
    "\n",
    "for i in range(0, len(profit)):\n",
    "    best_month_bool.append(profit_after_tax[i] == max(profit_after_tax))\n",
    "\n",
    "best_month_bool\n",
    "\n",
    "\n",
    "best_month = list([])\n",
    "for i in range(0, len(profit)):\n",
    "    if best_month_bool[i] == True:\n",
    "        best_month.append(months[i])\n",
    "        \n",
    "best_month"
   ]
  },
  {
   "cell_type": "code",
   "execution_count": 75,
   "id": "e2e1c341",
   "metadata": {},
   "outputs": [
    {
     "data": {
      "text/plain": [
       "['Mar']"
      ]
     },
     "execution_count": 75,
     "metadata": {},
     "output_type": "execute_result"
    }
   ],
   "source": [
    "# The worst month i.e. yearly min\n",
    "\n",
    "worst_month_bool = list([])\n",
    "\n",
    "for i in range(0, len(profit)):\n",
    "    worst_month_bool.append(profit_after_tax[i] == min(profit_after_tax))\n",
    "\n",
    "worst_month_bool\n",
    "\n",
    "\n",
    "worst_month = list([])\n",
    "for i in range(0, len(profit)):\n",
    "    if worst_month_bool[i] == True:\n",
    "        worst_month.append(months[i])\n",
    "        \n",
    "worst_month"
   ]
  },
  {
   "cell_type": "code",
   "execution_count": 82,
   "id": "dbc083ef",
   "metadata": {},
   "outputs": [],
   "source": [
    "#Converting all calculations to uints of $1000 dollars\n",
    "\n",
    "revenue_1000 = [round((i/1000),2) for i in revenue]\n",
    "expenses_1000 = [round((i/1000),2) for i in expenses]\n",
    "profit_1000 = [round((i/1000),2) for i in profit]\n",
    "profit_after_tax_1000 = [round((i/1000),2) for i in profit_after_tax]"
   ]
  },
  {
   "cell_type": "code",
   "execution_count": 81,
   "id": "085618ca",
   "metadata": {},
   "outputs": [
    {
     "data": {
      "text/plain": [
       "[1, 1, -2, -2, 0, 5, 5, 2, 2, -1, 0, 8]"
      ]
     },
     "execution_count": 81,
     "metadata": {},
     "output_type": "execute_result"
    }
   ],
   "source": [
    "# Rounded to the nearest $1000\n",
    "revenue_1000 = [int(i) for i in revenue_1000]\n",
    "expenses_1000 = [int(i) for i in expenses_1000]\n",
    "profit_1000 = [int(i) for i in profit_1000]\n",
    "profit_after_tax_1000 = [int(i) for i in profit_after_tax_1000]\n"
   ]
  },
  {
   "cell_type": "code",
   "execution_count": 86,
   "id": "3d595557",
   "metadata": {},
   "outputs": [
    {
     "name": "stdout",
     "output_type": "stream",
     "text": [
      "Yearly Financial Summary\n",
      "Revenue, expenses, profit, and profit after tax are in thousands of dollars and are rounded to the nearest thousand.\n",
      "Revenue:\n",
      "[14.57, 7.61, 8.61, 9.18, 8.06, 8.11, 11.5, 9.77, 10.31, 14.38, 10.71, 15.43]\n",
      "Expenses:\n",
      "[12.05, 5.7, 12.32, 12.09, 8.66, 0.84, 3.29, 5.82, 6.98, 16.62, 10.05, 3.8]\n",
      "Profit:\n",
      "[2.52, 1.91, -3.71, -2.91, -0.6, 7.27, 8.21, 3.94, 3.33, -2.24, 0.66, 11.63]\n",
      "Profit after 30% tax:\n",
      "[1.77, 1.34, -2.6, -2.04, -0.42, 5.09, 5.75, 2.76, 2.33, -1.57, 0.46, 8.14]\n",
      "Profit margin:\n",
      "[12.12, 17.59, -30.14, -22.23, -5.21, 62.74, 49.99, 28.28, 22.61, -10.9, 4.31, 52.75]\n",
      "Good Months:\n",
      "['Jan', 'Jun', 'Jul', 'Aug', 'Sep', 'Dec']\n",
      "Bad Months:\n",
      "['Feb', 'Mar', 'Apr', 'May', 'Oct', 'Nov']\n",
      "Best Month:\n",
      "Dec\n",
      "Worst Month:\n",
      "Mar\n"
     ]
    }
   ],
   "source": [
    "# Print the results\n",
    "\n",
    "print('Yearly Financial Summary')\n",
    "print('Revenue, expenses, profit, and profit after tax are in thousands of dollars and are rounded to the nearest thousand.')\n",
    "\n",
    "print('Revenue:')\n",
    "print(revenue_1000)\n",
    "print('Expenses:')\n",
    "print(expenses_1000)\n",
    "print('Profit:')\n",
    "print(profit_1000)\n",
    "print('Profit after 30% tax:')\n",
    "print(profit_after_tax_1000)\n",
    "print('Profit margin:')\n",
    "print(profit_margin)\n",
    "print('Good Months:')\n",
    "print(good_months_listed)\n",
    "print('Bad Months:')\n",
    "print(bad_months_listed)\n",
    "print('Best Month:')\n",
    "print(best_month[0])\n",
    "print('Worst Month:')\n",
    "print(worst_month[0])"
   ]
  },
  {
   "cell_type": "code",
   "execution_count": null,
   "id": "9e25bc96",
   "metadata": {},
   "outputs": [],
   "source": []
  }
 ],
 "metadata": {
  "kernelspec": {
   "display_name": "Python 3 (ipykernel)",
   "language": "python",
   "name": "python3"
  },
  "language_info": {
   "codemirror_mode": {
    "name": "ipython",
    "version": 3
   },
   "file_extension": ".py",
   "mimetype": "text/x-python",
   "name": "python",
   "nbconvert_exporter": "python",
   "pygments_lexer": "ipython3",
   "version": "3.11.4"
  }
 },
 "nbformat": 4,
 "nbformat_minor": 5
}
